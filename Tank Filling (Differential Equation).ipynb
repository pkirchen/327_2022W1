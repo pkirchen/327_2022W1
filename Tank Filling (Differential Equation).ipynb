{
 "cells": [
  {
   "cell_type": "markdown",
   "id": "74454a56",
   "metadata": {},
   "source": [
    "Instead of an iterative solution, the first law can be used to derive a differential equation describing the temperature of air in the tank:\n",
    "$$\\frac{dT_t}{dt} = \\frac{\\dot{m}(h_{in}-u_t(t))}{c_{v,t}m_t(t)}$$\n",
    "\n",
    "This can also be solved numerically using the property polynomials. Similar to the iterative solution, we define functions for these properties"
   ]
  },
  {
   "cell_type": "code",
   "execution_count": 20,
   "id": "9bd97374",
   "metadata": {},
   "outputs": [],
   "source": [
    "## function for cp of air (from table A-2c)\n",
    "def cp(T):\n",
    "\tcpVal= 28.11 + 0.1967e-2*T +0.4802e-5*T**2 - 1.966e-9*T**3\n",
    "\tcpVal = cpVal/28.97\n",
    "\treturn cpVal\n",
    "\n",
    "## function of enthalpy of air\n",
    "def h(T):\n",
    "\thVal= 28.11*T + 0.1967e-2*T**2/2 +0.4802e-5*T**3/3 - 1.966e-9*T**4/4\n",
    "\thVal = hVal/28.97\n",
    "\treturn hVal\n",
    "\n",
    "## function for internal energy of air\n",
    "def u(T):\n",
    "\thVal= 28.11*T + 0.1967e-2*T**2/2 +0.4802e-5*T**3/3 - 1.966e-9*T**4/4\n",
    "\tuVal = hVal/28.97 - 0.287*T\n",
    "\treturn uVal"
   ]
  },
  {
   "cell_type": "markdown",
   "id": "a45e6b97",
   "metadata": {},
   "source": [
    "Note that $c_p$ is evaluated using the polynomials and will be converted to $c_v$ at a later stage.\n",
    "To solve the differential equation, we will need to import scipy.integrate and numpy "
   ]
  },
  {
   "cell_type": "code",
   "execution_count": 21,
   "id": "650655ab",
   "metadata": {},
   "outputs": [],
   "source": [
    "from scipy import integrate, interpolate\n",
    "import numpy as np"
   ]
  },
  {
   "cell_type": "markdown",
   "id": "7f5f8037",
   "metadata": {},
   "source": [
    "Define a function returining the temperature and mass time derivatives (i.e., the ODEs we are solving) "
   ]
  },
  {
   "cell_type": "code",
   "execution_count": 22,
   "id": "40ffe095",
   "metadata": {},
   "outputs": [],
   "source": [
    "## System of differential equations for T and m\n",
    "def dTdt(y, t):\n",
    "    #y:T\n",
    "    R = 0.287 ## kJ/kg/K\n",
    "    mDot = 5.858e-3\n",
    "    dy = np.array([(mDot*h(450) - mDot*u(y[0])) / (y[1] * (cp(y[0])-R)), mDot])\n",
    "\n",
    "    return dy"
   ]
  },
  {
   "cell_type": "markdown",
   "id": "3bae86e9",
   "metadata": {},
   "source": [
    "Define the initial conditions: "
   ]
  },
  {
   "cell_type": "code",
   "execution_count": 23,
   "id": "8dd30a74",
   "metadata": {},
   "outputs": [],
   "source": [
    "## Initial conditions\n",
    "T0=298\n",
    "m0=100*0.2/0.287/T0\n",
    "y0=[T0,m0]"
   ]
  },
  {
   "cell_type": "markdown",
   "id": "8aa0ffb2",
   "metadata": {},
   "source": [
    "Define the domain (time) and integrate the system of ODEs"
   ]
  },
  {
   "cell_type": "code",
   "execution_count": 24,
   "id": "9da1776e",
   "metadata": {},
   "outputs": [],
   "source": [
    "## Call integrator \n",
    "t = np.linspace(0, 100, 200)\n",
    "y = integrate.odeint(dTdt, y0, t)"
   ]
  },
  {
   "cell_type": "raw",
   "id": "ecac7310",
   "metadata": {},
   "source": [
    "To provide the solution needed ($\\Delta t$ to reach 500 kPa), we need to calculate the pressure and add to the solution vector y: "
   ]
  },
  {
   "cell_type": "code",
   "execution_count": 25,
   "id": "2b3ddba4",
   "metadata": {},
   "outputs": [],
   "source": [
    "y = np.append(y,np.array([ y[:,1]*0.287*y[:,0]/0.2]).T, axis=1)"
   ]
  },
  {
   "cell_type": "markdown",
   "id": "64c16992",
   "metadata": {},
   "source": [
    "The solution can than be plotted: "
   ]
  },
  {
   "cell_type": "code",
   "execution_count": 26,
   "id": "fe1f1807",
   "metadata": {},
   "outputs": [
    {
     "data": {
      "text/plain": [
       "<matplotlib.legend.Legend at 0x17e6fd81d00>"
      ]
     },
     "execution_count": 26,
     "metadata": {},
     "output_type": "execute_result"
    },
    {
     "data": {
      "image/png": "[encoded data removed]",
      "text/plain": [
       "<Figure size 432x288 with 1 Axes>"
      ]
     },
     "metadata": {
      "needs_background": "light"
     },
     "output_type": "display_data"
    }
   ],
   "source": [
    "import matplotlib.pyplot as plt\n",
    "fig = plt.figure(1)\n",
    "ax = fig.add_subplot(1,1,1)\n",
    "ax.plot(t,y[:,0],label='Temperature',linewidth=3)\n",
    "ax.plot(t,(y[:,2]),label='Pressure',linewidth=3,linestyle='--')\n",
    "ax.grid('on')\n",
    "ax.set_ylabel(R'Temperature, $T$ [K]; Pressure, $p$ [kPa]')\n",
    "ax.set_xlabel(R'Time, $t$ [s]')\n",
    "ax.legend()"
   ]
  },
  {
   "cell_type": "markdown",
   "id": "918446a5",
   "metadata": {},
   "source": [
    "To find the required $\\Delta t$ to reach 500 kPa, we can estimate this from plot, or interpolate from the solution:"
   ]
  },
  {
   "cell_type": "code",
   "execution_count": 27,
   "id": "0642606b",
   "metadata": {},
   "outputs": [
    {
     "name": "stdout",
     "output_type": "stream",
     "text": [
      "t=76.1 s\n",
      "T= 512 K\n",
      "m=0.68 kg\n"
     ]
    }
   ],
   "source": [
    "## Output time required reach p=500kPa\n",
    "f = interpolate.interp1d(y[:,2],t)\n",
    "print('t={:4.3g} s'.format(f(500)))\n",
    "\n",
    "## Output temperature at p=500kPa\n",
    "f = interpolate.interp1d(y[:,2],y[:,0])\n",
    "print('T={:4.3g} K'.format(f(500)))\n",
    "    \n",
    "## Output mass at p=500kPa\n",
    "f = interpolate.interp1d(y[:,2],y[:,1])\n",
    "print('m={:4.3g} kg'.format(f(500)))"
   ]
  },
  {
   "cell_type": "markdown",
   "id": "9223644c",
   "metadata": {},
   "source": [
    "While perhaps more complex, solution of the differential equation (rather than iteration) provides much more insight to the process and facilitates additional analyses. "
   ]
  }
 ],
 "metadata": {
  "kernelspec": {
   "display_name": "Python 3 (ipykernel)",
   "language": "python",
   "name": "python3"
  },
  "language_info": {
   "codemirror_mode": {
    "name": "ipython",
    "version": 3
   },
   "file_extension": ".py",
   "mimetype": "text/x-python",
   "name": "python",
   "nbconvert_exporter": "python",
   "pygments_lexer": "ipython3",
   "version": "3.8.8"
  }
 },
 "nbformat": 4,
 "nbformat_minor": 5
}
