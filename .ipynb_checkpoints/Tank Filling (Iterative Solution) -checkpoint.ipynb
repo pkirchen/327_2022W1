{
 "cells": [
  {
   "cell_type": "markdown",
   "id": "d7631260",
   "metadata": {},
   "source": [
    "For the tank filling example, we have two equations: \n",
    "$$m_{f,t}u_{f,t} - m_{o,t}u_{o,t} = \\dot{m}h_2\\Delta t$$\n",
    "$$m_{f,t} = m_{o,t} + \\dot{m}\\Delta t$$\n",
    "with three unknowns: $m_{f,t}, u_{f,t}, \\Delta t$\n",
    "\n",
    "To solve, an iterative approach can be used: \n",
    "1. Guess $\\Delta t$\n",
    "2. Calculate $m_{f,t}$\n",
    "3. Calculate $T_f$\n",
    "4. Use $T_f, m_{f,t}, \\Delta t$ to verify if first law is satisfied\n",
    "5. Repeat until first law is satisfied\n",
    "\n",
    "This process can be simplified by using polynomials to solve for the properties. Using the polynomial coefficients for air, functions for evaluating the internal energy $u(T)$ and enthalpy $h(T)$ are defined"
   ]
  },
  {
   "cell_type": "code",
   "execution_count": 1,
   "id": "3ebdaa03",
   "metadata": {},
   "outputs": [],
   "source": [
    "## function of enthalpy of air\n",
    "def h(T):\n",
    "\thVal= 28.11*T + 0.1967e-2*T**2/2 +0.4802e-5*T**3/3 - 1.966e-9*T**4/4\n",
    "\thVal = hVal/28.97\n",
    "\treturn hVal\n",
    "\n",
    "## function for internal energy of air\n",
    "def u(T):\n",
    "\thVal= 28.11*T + 0.1967e-2*T**2/2 +0.4802e-5*T**3/3 - 1.966e-9*T**4/4\n",
    "\tuVal = hVal/28.97 - 0.287*T\n",
    "\treturn uVal"
   ]
  },
  {
   "cell_type": "markdown",
   "id": "268d7353",
   "metadata": {},
   "source": [
    "These can then be called to evalaute the properties, e.g.: "
   ]
  },
  {
   "cell_type": "code",
   "execution_count": 2,
   "id": "efcaa5d8",
   "metadata": {},
   "outputs": [
    {
     "data": {
      "text/plain": [
       "295.50403348291337"
      ]
     },
     "execution_count": 2,
     "metadata": {},
     "output_type": "execute_result"
    }
   ],
   "source": [
    "h(300)"
   ]
  },
  {
   "cell_type": "code",
   "execution_count": 3,
   "id": "bb8eec1b",
   "metadata": {},
   "outputs": [
    {
     "data": {
      "text/plain": [
       "209.40403348291338"
      ]
     },
     "execution_count": 3,
     "metadata": {},
     "output_type": "execute_result"
    }
   ],
   "source": [
    "u(300)"
   ]
  },
  {
   "cell_type": "markdown",
   "id": "bfb5a06c",
   "metadata": {},
   "source": [
    "Note that for and ideal gas these are related by \n",
    "$$h(T) = u+RT$$"
   ]
  },
  {
   "cell_type": "code",
   "execution_count": 4,
   "id": "a96c83db",
   "metadata": {},
   "outputs": [
    {
     "data": {
      "text/plain": [
       "295.50403348291337"
      ]
     },
     "execution_count": 4,
     "metadata": {},
     "output_type": "execute_result"
    }
   ],
   "source": [
    "u(300) + 0.287*300"
   ]
  },
  {
   "cell_type": "markdown",
   "id": "bf111a41",
   "metadata": {},
   "source": [
    "Then define a function to verify if the first a law is satisifed a given $\\Delta t$"
   ]
  },
  {
   "cell_type": "code",
   "execution_count": 5,
   "id": "e4e836e7",
   "metadata": {},
   "outputs": [],
   "source": [
    "# First law for manual solution (guess dt and verify if solVal = 0)    \n",
    "def sol(dt):\n",
    "        mi = 0.2338     ## initial mass kg\n",
    "        mdot = 5.8586e-3  ## Mass flow rate kg/s\n",
    "        Tf = 500*0.2/((mi+mdot*dt)*.287)  ## Ideal Gas EQS\n",
    "        solVal = (mi + mdot*dt)*u(Tf) - mi*u(298) - mdot*dt*h(450) ## Equation * and **\n",
    "        return solVal, Tf"
   ]
  },
  {
   "cell_type": "markdown",
   "id": "c7c26c9a",
   "metadata": {},
   "source": [
    "Call sol(dt) to evaluate, and iterate $\\Delta t$ until solVal is ~0"
   ]
  },
  {
   "cell_type": "code",
   "execution_count": 17,
   "id": "2a5627b7",
   "metadata": {},
   "outputs": [
    {
     "name": "stdout",
     "output_type": "stream",
     "text": [
      "First Law Residual = -64.86230491835065\n",
      "Final Temperature = 425.1K\n"
     ]
    }
   ],
   "source": [
    "dt = 100\n",
    "solVal, Tf = sol(dt)\n",
    "print('First Law Residual = {}'.format(solVal))\n",
    "print('Final Temperature = {:5.4g}K'.format(Tf))"
   ]
  }
 ],
 "metadata": {
  "kernelspec": {
   "display_name": "Python 3 (ipykernel)",
   "language": "python",
   "name": "python3"
  },
  "language_info": {
   "codemirror_mode": {
    "name": "ipython",
    "version": 3
   },
   "file_extension": ".py",
   "mimetype": "text/x-python",
   "name": "python",
   "nbconvert_exporter": "python",
   "pygments_lexer": "ipython3",
   "version": "3.8.8"
  }
 },
 "nbformat": 4,
 "nbformat_minor": 5
}
